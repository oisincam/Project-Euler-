{
  "cells": [
    {
      "cell_type": "markdown",
      "metadata": {
        "id": "view-in-github",
        "colab_type": "text"
      },
      "source": [
        "<a href=\"https://colab.research.google.com/github/oisincam/Project-Euler-/blob/main/Project_Euler.ipynb\" target=\"_parent\"><img src=\"https://colab.research.google.com/assets/colab-badge.svg\" alt=\"Open In Colab\"/></a>"
      ]
    },
    {
      "cell_type": "markdown",
      "metadata": {
        "id": "MTEC1029bXt6"
      },
      "source": [
        "# Project Euler Questions"
      ]
    },
    {
      "cell_type": "code",
      "source": [
        "#EULER"
      ],
      "metadata": {
        "id": "aqRL-vS0ukv9"
      },
      "execution_count": null,
      "outputs": []
    },
    {
      "cell_type": "code",
      "execution_count": null,
      "metadata": {
        "id": "TyFjv77MbXuC"
      },
      "outputs": [],
      "source": [
        "import numpy as np "
      ]
    },
    {
      "cell_type": "markdown",
      "metadata": {
        "id": "7cBxdxnsbXuE"
      },
      "source": [
        "# Problem 1 $\\checkmark$"
      ]
    },
    {
      "cell_type": "code",
      "execution_count": null,
      "metadata": {
        "id": "LEqgJgfRbXuF",
        "outputId": "23e0e941-5db1-44d1-bc46-fdda9ac3abf6",
        "colab": {
          "base_uri": "https://localhost:8080/"
        }
      },
      "outputs": [
        {
          "output_type": "execute_result",
          "data": {
            "text/plain": [
              "233168"
            ]
          },
          "metadata": {},
          "execution_count": 12
        }
      ],
      "source": [
        "def sumofmult3or5(n):\n",
        "    total=0\n",
        "    for i in range(0,n):\n",
        "        if i%15==0:\n",
        "            total+=i\n",
        "        elif i%3==0:\n",
        "            total+=i\n",
        "        elif i%5==0:\n",
        "            total+=i\n",
        "        else:\n",
        "            total+=0\n",
        "    return total\n",
        "sumofmult3or5(1000)"
      ]
    },
    {
      "cell_type": "markdown",
      "metadata": {
        "id": "lDs-9kyvbXuK"
      },
      "source": [
        "# Problem 2 $\\checkmark$"
      ]
    },
    {
      "cell_type": "code",
      "execution_count": null,
      "metadata": {
        "id": "BjBJIKmfbXuL",
        "outputId": "72402cfc-acea-4e45-e5c1-c5e12b7c6113",
        "colab": {
          "base_uri": "https://localhost:8080/"
        }
      },
      "outputs": [
        {
          "output_type": "stream",
          "name": "stdout",
          "text": [
            "0\n",
            "2\n",
            "8\n",
            "34\n",
            "144\n",
            "610\n",
            "2584\n",
            "10946\n",
            "46368\n",
            "196418\n",
            "832040\n",
            "3524578\n"
          ]
        },
        {
          "output_type": "execute_result",
          "data": {
            "text/plain": [
              "(4613732, array([      0,       1,       1,       2,       3,       5,       8,\n",
              "             13,      21,      34,      55,      89,     144,     233,\n",
              "            377,     610,     987,    1597,    2584,    4181,    6765,\n",
              "          10946,   17711,   28657,   46368,   75025,  121393,  196418,\n",
              "         317811,  514229,  832040, 1346269, 2178309, 3524578]))"
            ]
          },
          "metadata": {},
          "execution_count": 13
        }
      ],
      "source": [
        "def sumofevenfib(n):\n",
        "    # First generate the fibonacci numbers\n",
        "    v=[0]\n",
        "    a=1\n",
        "    i=0\n",
        "    while i<n:\n",
        "        if a<4000000:\n",
        "            v=np.append(v,a)\n",
        "            a=v[i+1]+v[i]\n",
        "            i+=1\n",
        "        else:\n",
        "            \n",
        "            i+=n\n",
        "    total=0\n",
        "    for fib in v:\n",
        "        if fib%2==0:\n",
        "            print(fib)\n",
        "            total+=fib\n",
        "        else:\n",
        "            total+=0\n",
        "            \n",
        "    return total,v\n",
        "sumofevenfib(100)"
      ]
    },
    {
      "cell_type": "markdown",
      "metadata": {
        "id": "meA0ZuhQbXuN"
      },
      "source": [
        "# Problem 3 $\\checkmark$"
      ]
    },
    {
      "cell_type": "markdown",
      "metadata": {
        "id": "8SmTIs-ebXuP"
      },
      "source": [
        "The prime factors of 13195 are 5, 7, 13 and 29.\n",
        "\n",
        "What is the largest prime factor of the number 600851475143 ?"
      ]
    },
    {
      "cell_type": "code",
      "execution_count": null,
      "metadata": {
        "scrolled": true,
        "id": "xiaB9aSabXuQ",
        "outputId": "fc8376e3-a370-4152-df3c-63c2af908db5",
        "colab": {
          "base_uri": "https://localhost:8080/"
        }
      },
      "outputs": [
        {
          "output_type": "execute_result",
          "data": {
            "text/plain": [
              "775146.0992245268"
            ]
          },
          "metadata": {},
          "execution_count": 5
        }
      ],
      "source": [
        "np.sqrt(600851475143)"
      ]
    },
    {
      "cell_type": "code",
      "execution_count": null,
      "metadata": {
        "scrolled": true,
        "id": "xPh6DZ7qbXuR"
      },
      "outputs": [],
      "source": [
        "n=600851475143\n",
        "factors= np.array([])\n",
        "#we generate an array of primes in problem 7\n",
        "# for p in primes:\n",
        "#     if n%p==0:\n",
        "#         factors=np.append(factors,p)\n",
        "# factors"
      ]
    },
    {
      "cell_type": "markdown",
      "metadata": {
        "id": "pFxBETUKbXuS"
      },
      "source": [
        "# Problem 4 $\\checkmark$"
      ]
    },
    {
      "cell_type": "markdown",
      "metadata": {
        "id": "R9M4S58ZbXuT"
      },
      "source": [
        "A palindromic number reads the same both ways. The largest palindrome made from the product of two 2-digit numbers is 9009 = 91 × 99.\n",
        "\n",
        "Find the largest palindrome made from the product of two 3-digit numbers."
      ]
    },
    {
      "cell_type": "code",
      "execution_count": null,
      "metadata": {
        "id": "apXOeEysbXuU"
      },
      "outputs": [],
      "source": [
        "def NumToArrayFlip(x):\n",
        "    digits=np.array([])\n",
        "    \n",
        "    l=int(np.log10(x))+1\n",
        "    digit_i= x%10\n",
        "    digits=np.append(digits,digit_i)\n",
        "    \n",
        "    for i in range(1,l):\n",
        "        digit_i= x %(10**(i+1))\n",
        "        \n",
        "        for j in range(0,i):\n",
        "            digit_i= digit_i-digits[j]*(10**(j))\n",
        "            \n",
        "        digit_i=digit_i*(10**(-i))\n",
        "        digits=np.append(digits,digit_i)\n",
        "        \n",
        "    return digits\n",
        "\n",
        "def FlipArray(array):\n",
        "    l=len(array)\n",
        "    flipped=np.zeros(l)\n",
        "    for i in range(0,l):\n",
        "        flipped[i]=array[l-1-i]\n",
        "        \n",
        "    return flipped\n",
        "x=123456\n"
      ]
    },
    {
      "cell_type": "code",
      "execution_count": null,
      "metadata": {
        "id": "-u274SuQbXuX",
        "outputId": "66712bcc-9456-4b4d-d98c-c5054d5d8180",
        "colab": {
          "base_uri": "https://localhost:8080/"
        }
      },
      "outputs": [
        {
          "output_type": "execute_result",
          "data": {
            "text/plain": [
              "True"
            ]
          },
          "metadata": {},
          "execution_count": 16
        }
      ],
      "source": [
        "def IsPal(x):\n",
        "    result = False\n",
        "    if np.linalg.norm( NumToArrayFlip(x)-FlipArray(NumToArrayFlip(x)) ) <0.5:\n",
        "        result =True\n",
        "    return result\n",
        "IsPal(1234321)\n"
      ]
    },
    {
      "cell_type": "code",
      "execution_count": null,
      "metadata": {
        "id": "jyCTBe8bbXuY",
        "outputId": "45e207b8-d03c-4a5a-9c7b-ad3924af27cc",
        "colab": {
          "base_uri": "https://localhost:8080/"
        }
      },
      "outputs": [
        {
          "output_type": "stream",
          "name": "stdout",
          "text": [
            "[913, 993]\n",
            "906609\n"
          ]
        }
      ],
      "source": [
        "\n",
        "#First, we need to generate a list of products of three digit numbers, from the top down\n",
        "PalFound=False\n",
        "i_r=10\n",
        "j_r=10\n",
        "product=0\n",
        "k=0\n",
        "a=999\n",
        "b=999\n",
        "pal=0\n",
        "for i in range(50,100):\n",
        "    for j in range(k,k+30):\n",
        "        product= (a-i)*(b-j)\n",
        "        if IsPal(product)==True:\n",
        "            pal=product\n",
        "            print([a-i,b-j])\n",
        "            break\n",
        "print(pal)"
      ]
    },
    {
      "cell_type": "markdown",
      "metadata": {
        "id": "_ujCbTl0bXuf"
      },
      "source": [
        "# Problem 6 $\\checkmark$"
      ]
    },
    {
      "cell_type": "code",
      "execution_count": null,
      "metadata": {
        "id": "m2jAe11XbXug",
        "outputId": "d2cb11e6-6faf-494c-dcbe-5cf19a126350",
        "colab": {
          "base_uri": "https://localhost:8080/"
        }
      },
      "outputs": [
        {
          "output_type": "execute_result",
          "data": {
            "text/plain": [
              "25164150"
            ]
          },
          "metadata": {},
          "execution_count": 18
        }
      ],
      "source": [
        "def squareddif(n):\n",
        "    i=0\n",
        "    total1=0\n",
        "    while i<=n:\n",
        "        total1+=i**2\n",
        "        i+=1\n",
        "    k=0\n",
        "    total2=0\n",
        "    while k<=n:\n",
        "        total2+=k\n",
        "        k+=1\n",
        "    result = total2**2-total1\n",
        "    return result\n",
        "squareddif(100)"
      ]
    },
    {
      "cell_type": "markdown",
      "metadata": {
        "id": "McEQl9XgbXuh"
      },
      "source": [
        "# Problem 7 $\\checkmark$"
      ]
    },
    {
      "cell_type": "markdown",
      "metadata": {
        "id": "1BB0cYBpbXuh"
      },
      "source": [
        "By listing the first six prime numbers: 2, 3, 5, 7, 11, and 13, we can see that the 6th prime is 13.\n",
        "\n",
        "What is the 10 001st prime number?"
      ]
    },
    {
      "cell_type": "code",
      "execution_count": null,
      "metadata": {
        "id": "FwyFBIRwbXui"
      },
      "outputs": [],
      "source": [
        "# this runs quite slowly so I've commented it out \n",
        "# primes = np.array([2,3,5,7,11])# Initiate some primes\n",
        "# n=13\n",
        "# while len(primes)< 10001:#we want this many primes\n",
        "#     k=0\n",
        "#     for p in primes: # check if e\n",
        "#         if p*p <= n:\n",
        "#             if n%p == 0:\n",
        "#                 k+=1\n",
        "#                 break\n",
        "#     if k ==0: \n",
        "#         primes=np.append(primes,n)\n",
        "        \n",
        "#     n+=2\n",
        "# print(primes)\n",
        "# print(len(primes))\n",
        "# #print(primes[10000])"
      ]
    },
    {
      "cell_type": "code",
      "execution_count": null,
      "metadata": {
        "id": "G9oFPUsPbXuj",
        "outputId": "c3bf2cfd-6978-4619-abbe-1447b6759a05",
        "colab": {
          "base_uri": "https://localhost:8080/"
        }
      },
      "outputs": [
        {
          "output_type": "execute_result",
          "data": {
            "text/plain": [
              "array([    2,     3,     5, ..., 35423, 35437, 35447])"
            ]
          },
          "metadata": {},
          "execution_count": 20
        }
      ],
      "source": [
        "primes"
      ]
    },
    {
      "cell_type": "code",
      "execution_count": null,
      "metadata": {
        "id": "skqYm0TObXuk",
        "colab": {
          "base_uri": "https://localhost:8080/"
        },
        "outputId": "337d0956-1dad-4db4-9cb2-63a736064187"
      },
      "outputs": [
        {
          "output_type": "execute_result",
          "data": {
            "text/plain": [
              "547"
            ]
          },
          "metadata": {},
          "execution_count": 22
        }
      ],
      "source": [
        "len(primes)\n",
        "juice=primes[0:10000]\n",
        "primes[100]"
      ]
    },
    {
      "cell_type": "markdown",
      "metadata": {
        "id": "abReGCPtbXul"
      },
      "source": [
        "# Problem 8 $\\checkmark$"
      ]
    },
    {
      "cell_type": "code",
      "execution_count": null,
      "metadata": {
        "id": "Hgc9pQzjbXul",
        "outputId": "3b820166-d5c5-4209-fcd1-a40fe9983712",
        "colab": {
          "base_uri": "https://localhost:8080/"
        }
      },
      "outputs": [
        {
          "output_type": "execute_result",
          "data": {
            "text/plain": [
              "23514624000.0"
            ]
          },
          "metadata": {},
          "execution_count": 23
        }
      ],
      "source": [
        "def NumToArray(x):\n",
        "    res = [ int(dig) for dig in str(x)]\n",
        "    return res\n",
        "NumToArray(2019)\n",
        "NumToArray(45)\n",
        "\n",
        "n = '73167176531330624919225119674426574742355349194934'\\\n",
        "'96983520312774506326239578318016984801869478851843'\\\n",
        "'85861560789112949495459501737958331952853208805511'\\\n",
        "'12540698747158523863050715693290963295227443043557'\\\n",
        "'66896648950445244523161731856403098711121722383113'\\\n",
        "'62229893423380308135336276614282806444486645238749'\\\n",
        "'30358907296290491560440772390713810515859307960866'\\\n",
        "'70172427121883998797908792274921901699720888093776'\\\n",
        "'65727333001053367881220235421809751254540594752243'\\\n",
        "'52584907711670556013604839586446706324415722155397'\\\n",
        "'53697817977846174064955149290862569321978468622482'\\\n",
        "'83972241375657056057490261407972968652414535100474'\\\n",
        "'82166370484403199890008895243450658541227588666881'\\\n",
        "'16427171479924442928230863465674813919123162824586'\\\n",
        "'17866458359124566529476545682848912883142607690042'\\\n",
        "'24219022671055626321111109370544217506941658960408'\\\n",
        "'07198403850962455444362981230987879927244284909188'\\\n",
        "'84580156166097919133875499200524063689912560717606'\\\n",
        "'05886116467109405077541002256983155200055935729725'\\\n",
        "'71636269561882670428252483600823257530420752963450'\n",
        "a=[int(dig) for dig in n]\n",
        "a\n",
        "prods=[]\n",
        "for i in range(0,1000-13):\n",
        "    prod=1\n",
        "    for j in range(0,13):\n",
        "        prod= prod*a[i+j]\n",
        "    prods=np.append(prods,prod)\n",
        "np.max(prods)"
      ]
    },
    {
      "cell_type": "markdown",
      "metadata": {
        "id": "yVX8H2OLbXum"
      },
      "source": [
        "# Problem 9 $\\checkmark$"
      ]
    },
    {
      "cell_type": "code",
      "execution_count": null,
      "metadata": {
        "id": "8XTLQrLzbXum",
        "outputId": "5a454d36-177b-45bd-b13c-5f6a032f9e00",
        "colab": {
          "base_uri": "https://localhost:8080/"
        }
      },
      "outputs": [
        {
          "output_type": "stream",
          "name": "stdout",
          "text": [
            "31875000.0\n"
          ]
        }
      ],
      "source": [
        "for a in range (1,1000):\n",
        "    b= (-1000000+2000*a)/(2*a -2000)\n",
        "    c=1000-a-b\n",
        "    if np.abs(b-np.floor(b))<0.001 and b>0 and c>0:\n",
        "        print(a*b*c)\n",
        "        break"
      ]
    },
    {
      "cell_type": "markdown",
      "metadata": {
        "id": "KGTOP8PxbXun"
      },
      "source": [
        "# Problem 10"
      ]
    },
    {
      "cell_type": "markdown",
      "metadata": {
        "id": "5A1_oj2ubXun"
      },
      "source": [
        "The sum of the primes below 10 is 2 + 3 + 5 + 7 = 17.\n",
        "\n",
        "Find the sum of all the primes below two million."
      ]
    },
    {
      "cell_type": "code",
      "execution_count": null,
      "metadata": {
        "id": "LZjaTsuHbXun",
        "outputId": "28ab429b-728c-4387-fad9-607026267088"
      },
      "outputs": [
        {
          "data": {
            "text/plain": [
              "6829"
            ]
          },
          "execution_count": 267,
          "metadata": {},
          "output_type": "execute_result"
        }
      ],
      "source": [
        "max(primes)"
      ]
    },
    {
      "cell_type": "markdown",
      "metadata": {
        "id": "8h7FB6xnbXuo"
      },
      "source": [
        "# Problem 12 "
      ]
    },
    {
      "cell_type": "markdown",
      "metadata": {
        "id": "ZX87B3ypbXuo"
      },
      "source": [
        "The sequence of triangle numbers is generated by adding the natural numbers. So the 7th triangle number would be 1 + 2 + 3 + 4 + 5 + 6 + 7 = 28. The first ten terms would be:\n",
        "\n",
        "1, 3, 6, 10, 15, 21, 28, 36, 45, 55, ...\n",
        "\n",
        "Let us list the factors of the first seven triangle numbers:\n",
        "\n",
        " 1: 1\n",
        " 3: 1,3\n",
        " 6: 1,2,3,6\n",
        "10: 1,2,5,10\n",
        "15: 1,3,5,15\n",
        "21: 1,3,7,21\n",
        "28: 1,2,4,7,14,28\n",
        "We can see that 28 is the first triangle number to have over five divisors.\n",
        "\n",
        "What is the value of the first triangle number to have over five hundred divisors?"
      ]
    },
    {
      "cell_type": "code",
      "execution_count": null,
      "metadata": {
        "id": "rKcArbiPbXup",
        "outputId": "619bd5d6-5bae-4e40-db96-e8bb493ed970"
      },
      "outputs": [
        {
          "data": {
            "text/plain": [
              "12"
            ]
          },
          "execution_count": 283,
          "metadata": {},
          "output_type": "execute_result"
        }
      ],
      "source": [
        "def DivCount(x): \n",
        "    ndiv = 2\n",
        "    for n in range(2,int(np.ceil(x/2))+1):\n",
        "        if x%n == 0:\n",
        "            ndiv+=1\n",
        "    return ndiv \n",
        "DivCount(126)"
      ]
    },
    {
      "cell_type": "code",
      "execution_count": null,
      "metadata": {
        "id": "7N26JPX7bXup",
        "outputId": "7cb6a980-24e6-4f0a-fe4f-1b6954a62d9c"
      },
      "outputs": [
        {
          "name": "stdout",
          "output_type": "stream",
          "text": [
            "749700\n"
          ]
        }
      ],
      "source": [
        "tri = 1 # the first triangle number\n",
        "n=2\n",
        "div500 = False # we have yet to find a triangle numb with 500 divisors\n",
        "while div500 == False: \n",
        "    tri +=n\n",
        "    if DivCount(tri) > 150:\n",
        "        print(tri)\n",
        "        div500 = True\n",
        "    else: n+=1"
      ]
    },
    {
      "cell_type": "markdown",
      "metadata": {
        "id": "OX7sI3_IbXuq"
      },
      "source": [
        "# Problem 14 $\\checkmark$"
      ]
    },
    {
      "cell_type": "code",
      "execution_count": null,
      "metadata": {
        "id": "O6PP5tmrbXuq",
        "outputId": "bbc10b79-0fe0-40ea-8f1f-fb450fffb729",
        "colab": {
          "base_uri": "https://localhost:8080/"
        }
      },
      "outputs": [
        {
          "output_type": "stream",
          "name": "stdout",
          "text": [
            "837799\n",
            "525\n"
          ]
        }
      ],
      "source": [
        "memo={}\n",
        "k=0\n",
        "crown=0\n",
        "def collatz(n):\n",
        "    if not n in memo:\n",
        "        if n==1:\n",
        "            memo[n]= 1\n",
        "        elif n%2==0:\n",
        "            memo[n]=collatz(n/2)+1\n",
        "        else:\n",
        "            memo[n]= collatz(3*n+1)+1\n",
        "    return memo[n]\n",
        "\n",
        "for i in range(1,1000001):\n",
        "    collatz(i)\n",
        "    if memo[i]>k:\n",
        "        k=memo[i]\n",
        "        crown=i\n",
        "\n",
        "print(crown)\n",
        "print (k) "
      ]
    },
    {
      "cell_type": "markdown",
      "metadata": {
        "id": "XAClLaTpbXur"
      },
      "source": [
        "# Problem 31"
      ]
    },
    {
      "cell_type": "markdown",
      "metadata": {
        "id": "LQXSdDdybXur"
      },
      "source": [
        "In the United Kingdom the currency is made up of pound (£) and pence (p). There are eight coins in general circulation:\n",
        "\n",
        "1p, 2p, 5p, 10p, 20p, 50p, £1 (100p), and £2 (200p).\n",
        "It is possible to make £2 in the following way:\n",
        "\n",
        "1×£1 + 1×50p + 2×20p + 1×5p + 1×2p + 3×1p\n",
        "How many different ways can £2 be made using any number of coins?"
      ]
    },
    {
      "cell_type": "code",
      "execution_count": null,
      "metadata": {
        "id": "oH8h7tN8bXut"
      },
      "outputs": [],
      "source": [
        "# Idea: Find how to make each denomination using all the ones smaller than it, then we can substitute. \n",
        "coins = np.array([1,2,3,10,]) #ways[i] is the number of ways to make coin i using the previous coins, starting with i=0 being 2p \n",
        "\n"
      ]
    },
    {
      "cell_type": "markdown",
      "source": [
        "# Problem 19 $\\checkmark $"
      ],
      "metadata": {
        "id": "_E5RCH4AIbNP"
      }
    },
    {
      "cell_type": "markdown",
      "source": [
        "You are given the following information, but you may prefer to do some research for yourself.\n",
        "\n",
        "1 Jan 1900 was a Monday.\n",
        "Thirty days has September,\n",
        "April, June and November.\n",
        "All the rest have thirty-one,\n",
        "Saving February alone,\n",
        "Which has twenty-eight, rain or shine.\n",
        "And on leap years, twenty-nine.\n",
        "A leap year occurs on any year evenly divisible by 4, but not on a century unless it is divisible by 400."
      ],
      "metadata": {
        "id": "VeGwQ8niMCre"
      }
    },
    {
      "cell_type": "code",
      "source": [
        "date = np.array([0,0,1901,1]) \n",
        "#[date,month,year,day of week] mod x, mod 12, year, mod 7 repectively\n",
        "thirty = [8,3,5,10]\n",
        "total = 0\n",
        "\n",
        "while date[2]<2001:\n",
        "  if date[0]==0 and date[3]==6:\n",
        "    total+=1\n",
        "  #increment the day\n",
        "  date[3] = (date[3]+1)%7\n",
        "\n",
        "  #increment date based on what month it is\n",
        "  #if in special month \n",
        "  if bool(date[1] in thirty):\n",
        "    date[0]= (date[0]+1)%30\n",
        "  #if in february\n",
        "  elif date[1] == 1:\n",
        "      #check for potential leap year\n",
        "      if date[2]%4==0:\n",
        "        if date[2]%100==0 and date[2]%400!=0:\n",
        "          date[0] = (date[0]+1)%28\n",
        "        elif date[2]%100==0 and date[2]%400==0:\n",
        "         date[0] = (date[0]+1)%29\n",
        "        else:\n",
        "          date[0] = (date[0]+1)%29\n",
        "      else:  \n",
        "        date[0] = (date[0]+1)%28\n",
        "  else:\n",
        "    date[0] = (date[0]+1)%31\n",
        "\n",
        "  if date[0]==0:\n",
        "    date[1]= (date[1]+1)%12\n",
        "\n",
        "  if date[1]==0 and date[0]==0:\n",
        "    date[2]+=1 "
      ],
      "metadata": {
        "id": "jKA7UGiDJfAy"
      },
      "execution_count": null,
      "outputs": []
    },
    {
      "cell_type": "code",
      "source": [
        "total"
      ],
      "metadata": {
        "colab": {
          "base_uri": "https://localhost:8080/"
        },
        "id": "fFGbhyknYA1g",
        "outputId": "ba99acaa-e6b4-45ed-b764-40095b49f564"
      },
      "execution_count": null,
      "outputs": [
        {
          "output_type": "execute_result",
          "data": {
            "text/plain": [
              "171"
            ]
          },
          "metadata": {},
          "execution_count": 26
        }
      ]
    },
    {
      "cell_type": "markdown",
      "source": [
        "# Problem 18 $\\checkmark$"
      ],
      "metadata": {
        "id": "WGBOWmR4U8AM"
      }
    },
    {
      "cell_type": "code",
      "source": [
        "import copy"
      ],
      "metadata": {
        "id": "_GmoYiGriXz7"
      },
      "execution_count": 70,
      "outputs": []
    },
    {
      "cell_type": "markdown",
      "source": [
        "Find the maximum total from top to bottom of the triangle below:"
      ],
      "metadata": {
        "id": "CC83ZC0xU-le"
      }
    },
    {
      "cell_type": "code",
      "source": [
        "T = [ [75],\n",
        "      [95, 64],\n",
        "      [17, 47, 82],\n",
        "      [18 ,35, 87, 10],\n",
        "      [20, 4, 82 ,47, 65],\n",
        "      [19, 1, 23 ,75, 3, 34],\n",
        "      [88, 2, 77, 73, 7, 63, 67],\n",
        "      [99, 65, 4, 28, 6, 16, 70, 92],\n",
        "      [41, 41, 26, 56, 83, 40, 80, 70, 33],\n",
        "      [41, 48, 72, 33, 47, 32, 37, 16, 94, 29],\n",
        "      [53, 71, 44, 65, 25, 43, 91, 52, 97, 51, 14],\n",
        "      [70, 11, 33, 28, 77, 73, 17, 78, 39, 68, 17, 57],\n",
        "      [91, 71, 52, 38, 17, 14, 91, 43, 58, 50, 27, 29, 48],\n",
        "      [63, 66, 4, 68, 89, 53, 67, 30, 73, 16, 69, 87, 40, 31],\n",
        "      [4, 62, 98, 27, 23, 9, 70, 98, 73, 93, 38, 53, 60, 4 ,23]]"
      ],
      "metadata": {
        "id": "jnaGGPpOSjWR"
      },
      "execution_count": 179,
      "outputs": []
    },
    {
      "cell_type": "code",
      "source": [
        "# The idea is that for every place in the triangle, there is an optimal path to get there.\n",
        "# The triangle S has the same shape of T, but each entry is replaced by the sum of the most optimal path to get there. \n",
        "#start from the top down to generate the sum. For each entry, there are ( at most) two paths that can connect to it.\n",
        "# continue the path that already has the largest sum \n",
        "# eg the first row is unchanges. We add 75 to everything in the second row. Save these changes in S \n",
        "#for the third row, look at the ( at most 2) elements in S that can connect there, and choose the one that is largest. \n",
        "#the first saving in the process will be connecting 95 to 47; the most optimal path to 47 is [75,95,64], and for any further path involving 47, \n",
        "# we will only need to consider this starting configuration. "
      ],
      "metadata": {
        "id": "7UCkqVHiwlA_"
      },
      "execution_count": 188,
      "outputs": []
    },
    {
      "cell_type": "code",
      "source": [
        "S = copy.deepcopy(T)"
      ],
      "metadata": {
        "id": "ZDk1pbzZhovK"
      },
      "execution_count": 189,
      "outputs": []
    },
    {
      "cell_type": "code",
      "source": [
        "for i in range(1,len(T)):\n",
        "  for k in range(0,len(T[i])):\n",
        "    if k== 0: \n",
        "      S[i][k] = T[i][k] +S[i-1][k]\n",
        "    if k == len(T[i])-1 : \n",
        "      S[i][k] = T[i][k] +S[i-1][k-1]\n",
        "    else:\n",
        "      if S[i-1][k-1]>S[i-1][k]:\n",
        "        S[i][k] = T[i][k] + S[i-1][k-1]\n",
        "      else: \n",
        "        S[i][k] = T[i][k] + S[i-1][k]\n",
        "    # print(k)\n",
        "    # if S[i-1][k-1] < S[i-1][k]:\n",
        "    #   S[i][k] = T[i][k]+S[i-1][k] \n"
      ],
      "metadata": {
        "id": "vbqBhObSisDy"
      },
      "execution_count": 190,
      "outputs": []
    },
    {
      "cell_type": "code",
      "source": [
        "np.max(S[-1]) # largest element in final row of S"
      ],
      "metadata": {
        "colab": {
          "base_uri": "https://localhost:8080/"
        },
        "id": "98hhirmHlegt",
        "outputId": "7b4d517e-9068-46b7-92b8-0d9529dc4f55"
      },
      "execution_count": 182,
      "outputs": [
        {
          "output_type": "execute_result",
          "data": {
            "text/plain": [
              "1074"
            ]
          },
          "metadata": {},
          "execution_count": 182
        }
      ]
    },
    {
      "cell_type": "code",
      "source": [
        "# for each element k in row i : \n",
        "# check the sum total for elements k and k+1 in row i-1 ( maybe problem at ends, )\n",
        "# append element k to the seq with highest sum total. \n",
        "  # place new sum total in index of the element. "
      ],
      "metadata": {
        "id": "ugJsP2hof7Iz"
      },
      "execution_count": null,
      "outputs": []
    },
    {
      "cell_type": "markdown",
      "source": [
        "# Problem 67 $\\checkmark$"
      ],
      "metadata": {
        "id": "xg0Pn1fzoMx0"
      }
    },
    {
      "cell_type": "code",
      "source": [
        "from google.colab import files\n",
        "uploaded = files.upload()"
      ],
      "metadata": {
        "colab": {
          "base_uri": "https://localhost:8080/",
          "height": 73
        },
        "id": "MWA7OqGfobaG",
        "outputId": "2557c21d-471e-4886-8569-b85d95f25b7c"
      },
      "execution_count": 138,
      "outputs": [
        {
          "output_type": "display_data",
          "data": {
            "text/plain": [
              "<IPython.core.display.HTML object>"
            ],
            "text/html": [
              "\n",
              "     <input type=\"file\" id=\"files-50fb1770-f026-477d-b2d3-9e2d5d6b5605\" name=\"files[]\" multiple disabled\n",
              "        style=\"border:none\" />\n",
              "     <output id=\"result-50fb1770-f026-477d-b2d3-9e2d5d6b5605\">\n",
              "      Upload widget is only available when the cell has been executed in the\n",
              "      current browser session. Please rerun this cell to enable.\n",
              "      </output>\n",
              "      <script>// Copyright 2017 Google LLC\n",
              "//\n",
              "// Licensed under the Apache License, Version 2.0 (the \"License\");\n",
              "// you may not use this file except in compliance with the License.\n",
              "// You may obtain a copy of the License at\n",
              "//\n",
              "//      http://www.apache.org/licenses/LICENSE-2.0\n",
              "//\n",
              "// Unless required by applicable law or agreed to in writing, software\n",
              "// distributed under the License is distributed on an \"AS IS\" BASIS,\n",
              "// WITHOUT WARRANTIES OR CONDITIONS OF ANY KIND, either express or implied.\n",
              "// See the License for the specific language governing permissions and\n",
              "// limitations under the License.\n",
              "\n",
              "/**\n",
              " * @fileoverview Helpers for google.colab Python module.\n",
              " */\n",
              "(function(scope) {\n",
              "function span(text, styleAttributes = {}) {\n",
              "  const element = document.createElement('span');\n",
              "  element.textContent = text;\n",
              "  for (const key of Object.keys(styleAttributes)) {\n",
              "    element.style[key] = styleAttributes[key];\n",
              "  }\n",
              "  return element;\n",
              "}\n",
              "\n",
              "// Max number of bytes which will be uploaded at a time.\n",
              "const MAX_PAYLOAD_SIZE = 100 * 1024;\n",
              "\n",
              "function _uploadFiles(inputId, outputId) {\n",
              "  const steps = uploadFilesStep(inputId, outputId);\n",
              "  const outputElement = document.getElementById(outputId);\n",
              "  // Cache steps on the outputElement to make it available for the next call\n",
              "  // to uploadFilesContinue from Python.\n",
              "  outputElement.steps = steps;\n",
              "\n",
              "  return _uploadFilesContinue(outputId);\n",
              "}\n",
              "\n",
              "// This is roughly an async generator (not supported in the browser yet),\n",
              "// where there are multiple asynchronous steps and the Python side is going\n",
              "// to poll for completion of each step.\n",
              "// This uses a Promise to block the python side on completion of each step,\n",
              "// then passes the result of the previous step as the input to the next step.\n",
              "function _uploadFilesContinue(outputId) {\n",
              "  const outputElement = document.getElementById(outputId);\n",
              "  const steps = outputElement.steps;\n",
              "\n",
              "  const next = steps.next(outputElement.lastPromiseValue);\n",
              "  return Promise.resolve(next.value.promise).then((value) => {\n",
              "    // Cache the last promise value to make it available to the next\n",
              "    // step of the generator.\n",
              "    outputElement.lastPromiseValue = value;\n",
              "    return next.value.response;\n",
              "  });\n",
              "}\n",
              "\n",
              "/**\n",
              " * Generator function which is called between each async step of the upload\n",
              " * process.\n",
              " * @param {string} inputId Element ID of the input file picker element.\n",
              " * @param {string} outputId Element ID of the output display.\n",
              " * @return {!Iterable<!Object>} Iterable of next steps.\n",
              " */\n",
              "function* uploadFilesStep(inputId, outputId) {\n",
              "  const inputElement = document.getElementById(inputId);\n",
              "  inputElement.disabled = false;\n",
              "\n",
              "  const outputElement = document.getElementById(outputId);\n",
              "  outputElement.innerHTML = '';\n",
              "\n",
              "  const pickedPromise = new Promise((resolve) => {\n",
              "    inputElement.addEventListener('change', (e) => {\n",
              "      resolve(e.target.files);\n",
              "    });\n",
              "  });\n",
              "\n",
              "  const cancel = document.createElement('button');\n",
              "  inputElement.parentElement.appendChild(cancel);\n",
              "  cancel.textContent = 'Cancel upload';\n",
              "  const cancelPromise = new Promise((resolve) => {\n",
              "    cancel.onclick = () => {\n",
              "      resolve(null);\n",
              "    };\n",
              "  });\n",
              "\n",
              "  // Wait for the user to pick the files.\n",
              "  const files = yield {\n",
              "    promise: Promise.race([pickedPromise, cancelPromise]),\n",
              "    response: {\n",
              "      action: 'starting',\n",
              "    }\n",
              "  };\n",
              "\n",
              "  cancel.remove();\n",
              "\n",
              "  // Disable the input element since further picks are not allowed.\n",
              "  inputElement.disabled = true;\n",
              "\n",
              "  if (!files) {\n",
              "    return {\n",
              "      response: {\n",
              "        action: 'complete',\n",
              "      }\n",
              "    };\n",
              "  }\n",
              "\n",
              "  for (const file of files) {\n",
              "    const li = document.createElement('li');\n",
              "    li.append(span(file.name, {fontWeight: 'bold'}));\n",
              "    li.append(span(\n",
              "        `(${file.type || 'n/a'}) - ${file.size} bytes, ` +\n",
              "        `last modified: ${\n",
              "            file.lastModifiedDate ? file.lastModifiedDate.toLocaleDateString() :\n",
              "                                    'n/a'} - `));\n",
              "    const percent = span('0% done');\n",
              "    li.appendChild(percent);\n",
              "\n",
              "    outputElement.appendChild(li);\n",
              "\n",
              "    const fileDataPromise = new Promise((resolve) => {\n",
              "      const reader = new FileReader();\n",
              "      reader.onload = (e) => {\n",
              "        resolve(e.target.result);\n",
              "      };\n",
              "      reader.readAsArrayBuffer(file);\n",
              "    });\n",
              "    // Wait for the data to be ready.\n",
              "    let fileData = yield {\n",
              "      promise: fileDataPromise,\n",
              "      response: {\n",
              "        action: 'continue',\n",
              "      }\n",
              "    };\n",
              "\n",
              "    // Use a chunked sending to avoid message size limits. See b/62115660.\n",
              "    let position = 0;\n",
              "    do {\n",
              "      const length = Math.min(fileData.byteLength - position, MAX_PAYLOAD_SIZE);\n",
              "      const chunk = new Uint8Array(fileData, position, length);\n",
              "      position += length;\n",
              "\n",
              "      const base64 = btoa(String.fromCharCode.apply(null, chunk));\n",
              "      yield {\n",
              "        response: {\n",
              "          action: 'append',\n",
              "          file: file.name,\n",
              "          data: base64,\n",
              "        },\n",
              "      };\n",
              "\n",
              "      let percentDone = fileData.byteLength === 0 ?\n",
              "          100 :\n",
              "          Math.round((position / fileData.byteLength) * 100);\n",
              "      percent.textContent = `${percentDone}% done`;\n",
              "\n",
              "    } while (position < fileData.byteLength);\n",
              "  }\n",
              "\n",
              "  // All done.\n",
              "  yield {\n",
              "    response: {\n",
              "      action: 'complete',\n",
              "    }\n",
              "  };\n",
              "}\n",
              "\n",
              "scope.google = scope.google || {};\n",
              "scope.google.colab = scope.google.colab || {};\n",
              "scope.google.colab._files = {\n",
              "  _uploadFiles,\n",
              "  _uploadFilesContinue,\n",
              "};\n",
              "})(self);\n",
              "</script> "
            ]
          },
          "metadata": {}
        },
        {
          "output_type": "stream",
          "name": "stdout",
          "text": [
            "Saving d.csv to d.csv\n"
          ]
        }
      ]
    },
    {
      "cell_type": "code",
      "source": [
        "# chat gpt gave the following to import the text file\n",
        "with open(\"p067_triangle.txt\",\"r\") as file:\n",
        "  lines = file.readlines()\n",
        "  content_list = [[float(num) for num in line.strip().split()] for line in lines]"
      ],
      "metadata": {
        "id": "LuVrTucRuNth"
      },
      "execution_count": 184,
      "outputs": []
    },
    {
      "cell_type": "code",
      "source": [
        "T = content_list"
      ],
      "metadata": {
        "id": "9UlkHLFZu9vW"
      },
      "execution_count": 185,
      "outputs": []
    },
    {
      "cell_type": "code",
      "source": [
        "S = copy.deepcopy(T)"
      ],
      "metadata": {
        "id": "rGpxk-3EvHYJ"
      },
      "execution_count": 186,
      "outputs": []
    },
    {
      "cell_type": "code",
      "source": [
        "for i in range(1,len(T)):\n",
        "  for k in range(0,len(T[i])):\n",
        "    if k== 0: \n",
        "      S[i][k] = T[i][k] +S[i-1][k]\n",
        "    if k == len(T[i])-1 : \n",
        "      S[i][k] = T[i][k] +S[i-1][k-1]\n",
        "    else:\n",
        "      if S[i-1][k-1]>S[i-1][k]:\n",
        "        S[i][k] = T[i][k] + S[i-1][k-1]\n",
        "      else: \n",
        "        S[i][k] = T[i][k] + S[i-1][k]\n",
        "np.max(S[-1])"
      ],
      "metadata": {
        "colab": {
          "base_uri": "https://localhost:8080/"
        },
        "id": "CHdoVyobvKST",
        "outputId": "99bae28e-0ae9-4541-88da-7d3aef070778"
      },
      "execution_count": 187,
      "outputs": [
        {
          "output_type": "execute_result",
          "data": {
            "text/plain": [
              "7273.0"
            ]
          },
          "metadata": {},
          "execution_count": 187
        }
      ]
    },
    {
      "cell_type": "code",
      "source": [],
      "metadata": {
        "id": "jvQEQShjvLeq"
      },
      "execution_count": null,
      "outputs": []
    }
  ],
  "metadata": {
    "kernelspec": {
      "display_name": "Python 3",
      "language": "python",
      "name": "python3"
    },
    "language_info": {
      "codemirror_mode": {
        "name": "ipython",
        "version": 3
      },
      "file_extension": ".py",
      "mimetype": "text/x-python",
      "name": "python",
      "nbconvert_exporter": "python",
      "pygments_lexer": "ipython3",
      "version": "3.8.3"
    },
    "colab": {
      "provenance": [],
      "collapsed_sections": [
        "MTEC1029bXt6",
        "7cBxdxnsbXuE",
        "lDs-9kyvbXuK",
        "meA0ZuhQbXuN",
        "pFxBETUKbXuS",
        "_ujCbTl0bXuf",
        "McEQl9XgbXuh",
        "abReGCPtbXul",
        "yVX8H2OLbXum",
        "KGTOP8PxbXun",
        "8h7FB6xnbXuo",
        "OX7sI3_IbXuq",
        "XAClLaTpbXur",
        "_E5RCH4AIbNP",
        "xg0Pn1fzoMx0"
      ],
      "include_colab_link": true
    }
  },
  "nbformat": 4,
  "nbformat_minor": 0
}