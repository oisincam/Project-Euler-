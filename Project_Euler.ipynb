{
  "cells": [
    {
      "cell_type": "markdown",
      "metadata": {
        "id": "view-in-github",
        "colab_type": "text"
      },
      "source": [
        "<a href=\"https://colab.research.google.com/github/oisincam/Project-Euler-/blob/main/Project_Euler.ipynb\" target=\"_parent\"><img src=\"https://colab.research.google.com/assets/colab-badge.svg\" alt=\"Open In Colab\"/></a>"
      ]
    },
    {
      "cell_type": "markdown",
      "metadata": {
        "id": "MTEC1029bXt6"
      },
      "source": [
        "# Project Euler Questions"
      ]
    },
    {
      "cell_type": "code",
      "source": [
        "#EULER"
      ],
      "metadata": {
        "id": "aqRL-vS0ukv9"
      },
      "execution_count": null,
      "outputs": []
    },
    {
      "cell_type": "code",
      "execution_count": null,
      "metadata": {
        "id": "TyFjv77MbXuC"
      },
      "outputs": [],
      "source": [
        "import numpy as np "
      ]
    },
    {
      "cell_type": "markdown",
      "metadata": {
        "id": "7cBxdxnsbXuE"
      },
      "source": [
        "# Problem 1"
      ]
    },
    {
      "cell_type": "code",
      "execution_count": null,
      "metadata": {
        "id": "LEqgJgfRbXuF",
        "outputId": "61d08fd3-8b12-4b38-c8e0-f5f498cf3870"
      },
      "outputs": [
        {
          "data": {
            "text/plain": [
              "233168"
            ]
          },
          "execution_count": 19,
          "metadata": {},
          "output_type": "execute_result"
        }
      ],
      "source": [
        "def sumofmult3or5(n):\n",
        "    total=0\n",
        "    for i in range(0,n):\n",
        "        if i%15==0:\n",
        "            total+=i\n",
        "        elif i%3==0:\n",
        "            total+=i\n",
        "        elif i%5==0:\n",
        "            total+=i\n",
        "        else:\n",
        "            total+=0\n",
        "    return total\n",
        "sumofmult3or5(1000)"
      ]
    },
    {
      "cell_type": "markdown",
      "metadata": {
        "id": "lDs-9kyvbXuK"
      },
      "source": [
        "# Problem 2"
      ]
    },
    {
      "cell_type": "code",
      "execution_count": null,
      "metadata": {
        "id": "BjBJIKmfbXuL",
        "outputId": "c7695e8c-f0e4-4c77-b1ec-bc38abd91086"
      },
      "outputs": [
        {
          "name": "stdout",
          "output_type": "stream",
          "text": [
            "0\n",
            "2\n",
            "8\n",
            "34\n",
            "144\n",
            "610\n",
            "2584\n",
            "10946\n",
            "46368\n",
            "196418\n",
            "832040\n",
            "3524578\n"
          ]
        },
        {
          "data": {
            "text/plain": [
              "(4613732,\n",
              " array([      0,       1,       1,       2,       3,       5,       8,\n",
              "             13,      21,      34,      55,      89,     144,     233,\n",
              "            377,     610,     987,    1597,    2584,    4181,    6765,\n",
              "          10946,   17711,   28657,   46368,   75025,  121393,  196418,\n",
              "         317811,  514229,  832040, 1346269, 2178309, 3524578]))"
            ]
          },
          "execution_count": 20,
          "metadata": {},
          "output_type": "execute_result"
        }
      ],
      "source": [
        "def sumofevenfib(n):\n",
        "    # First generate the fibonacci numbers\n",
        "    v=[0]\n",
        "    a=1\n",
        "    i=0\n",
        "    while i<n:\n",
        "        if a<4000000:\n",
        "            v=np.append(v,a)\n",
        "            a=v[i+1]+v[i]\n",
        "            i+=1\n",
        "        else:\n",
        "            \n",
        "            i+=n\n",
        "    total=0\n",
        "    for fib in v:\n",
        "        if fib%2==0:\n",
        "            print(fib)\n",
        "            total+=fib\n",
        "        else:\n",
        "            total+=0\n",
        "            \n",
        "    return total,v\n",
        "sumofevenfib(100)"
      ]
    },
    {
      "cell_type": "markdown",
      "metadata": {
        "id": "meA0ZuhQbXuN"
      },
      "source": [
        "## Problem 3"
      ]
    },
    {
      "cell_type": "markdown",
      "metadata": {
        "id": "8SmTIs-ebXuP"
      },
      "source": [
        "The prime factors of 13195 are 5, 7, 13 and 29.\n",
        "\n",
        "What is the largest prime factor of the number 600851475143 ?"
      ]
    },
    {
      "cell_type": "code",
      "execution_count": null,
      "metadata": {
        "scrolled": true,
        "id": "xiaB9aSabXuQ",
        "outputId": "c104a1f3-cc6e-4783-e85a-2bfd890fe2a6"
      },
      "outputs": [
        {
          "data": {
            "text/plain": [
              "775146.0992245268"
            ]
          },
          "execution_count": 21,
          "metadata": {},
          "output_type": "execute_result"
        }
      ],
      "source": [
        "np.sqrt(600851475143)"
      ]
    },
    {
      "cell_type": "code",
      "execution_count": null,
      "metadata": {
        "scrolled": true,
        "id": "xPh6DZ7qbXuR",
        "outputId": "97213141-84b0-4509-a076-9b31c945897e"
      },
      "outputs": [
        {
          "ename": "NameError",
          "evalue": "name 'primes' is not defined",
          "output_type": "error",
          "traceback": [
            "\u001b[1;31m---------------------------------------------------------------------------\u001b[0m",
            "\u001b[1;31mNameError\u001b[0m                                 Traceback (most recent call last)",
            "\u001b[1;32m<ipython-input-22-544cd0905a82>\u001b[0m in \u001b[0;36m<module>\u001b[1;34m\u001b[0m\n\u001b[0;32m      1\u001b[0m \u001b[0mn\u001b[0m\u001b[1;33m=\u001b[0m\u001b[1;36m600851475143\u001b[0m\u001b[1;33m\u001b[0m\u001b[1;33m\u001b[0m\u001b[0m\n\u001b[0;32m      2\u001b[0m \u001b[0mfactors\u001b[0m\u001b[1;33m=\u001b[0m \u001b[0mnp\u001b[0m\u001b[1;33m.\u001b[0m\u001b[0marray\u001b[0m\u001b[1;33m(\u001b[0m\u001b[1;33m[\u001b[0m\u001b[1;33m]\u001b[0m\u001b[1;33m)\u001b[0m\u001b[1;33m\u001b[0m\u001b[1;33m\u001b[0m\u001b[0m\n\u001b[1;32m----> 3\u001b[1;33m \u001b[1;32mfor\u001b[0m \u001b[0mp\u001b[0m \u001b[1;32min\u001b[0m \u001b[0mprimes\u001b[0m\u001b[1;33m:\u001b[0m\u001b[1;33m\u001b[0m\u001b[1;33m\u001b[0m\u001b[0m\n\u001b[0m\u001b[0;32m      4\u001b[0m     \u001b[1;32mif\u001b[0m \u001b[0mn\u001b[0m\u001b[1;33m%\u001b[0m\u001b[0mp\u001b[0m\u001b[1;33m==\u001b[0m\u001b[1;36m0\u001b[0m\u001b[1;33m:\u001b[0m\u001b[1;33m\u001b[0m\u001b[1;33m\u001b[0m\u001b[0m\n\u001b[0;32m      5\u001b[0m         \u001b[0mfactors\u001b[0m\u001b[1;33m=\u001b[0m\u001b[0mnp\u001b[0m\u001b[1;33m.\u001b[0m\u001b[0mappend\u001b[0m\u001b[1;33m(\u001b[0m\u001b[0mfactors\u001b[0m\u001b[1;33m,\u001b[0m\u001b[0mp\u001b[0m\u001b[1;33m)\u001b[0m\u001b[1;33m\u001b[0m\u001b[1;33m\u001b[0m\u001b[0m\n",
            "\u001b[1;31mNameError\u001b[0m: name 'primes' is not defined"
          ]
        }
      ],
      "source": [
        "n=600851475143\n",
        "factors= np.array([])\n",
        "#we generate an array of primes in problem 7\n",
        "# for p in primes:\n",
        "#     if n%p==0:\n",
        "#         factors=np.append(factors,p)\n",
        "# factors"
      ]
    },
    {
      "cell_type": "markdown",
      "metadata": {
        "id": "pFxBETUKbXuS"
      },
      "source": [
        "# Problem 4"
      ]
    },
    {
      "cell_type": "markdown",
      "metadata": {
        "id": "R9M4S58ZbXuT"
      },
      "source": [
        "A palindromic number reads the same both ways. The largest palindrome made from the product of two 2-digit numbers is 9009 = 91 × 99.\n",
        "\n",
        "Find the largest palindrome made from the product of two 3-digit numbers."
      ]
    },
    {
      "cell_type": "code",
      "execution_count": null,
      "metadata": {
        "id": "apXOeEysbXuU"
      },
      "outputs": [],
      "source": [
        "def NumToArrayFlip(x):\n",
        "    digits=np.array([])\n",
        "    \n",
        "    l=int(np.log10(x))+1\n",
        "    digit_i= x%10\n",
        "    digits=np.append(digits,digit_i)\n",
        "    \n",
        "    for i in range(1,l):\n",
        "        digit_i= x %(10**(i+1))\n",
        "        \n",
        "        for j in range(0,i):\n",
        "            digit_i= digit_i-digits[j]*(10**(j))\n",
        "            \n",
        "        digit_i=digit_i*(10**(-i))\n",
        "        digits=np.append(digits,digit_i)\n",
        "        \n",
        "    return digits\n",
        "\n",
        "def FlipArray(array):\n",
        "    l=len(array)\n",
        "    flipped=np.zeros(l)\n",
        "    for i in range(0,l):\n",
        "        flipped[i]=array[l-1-i]\n",
        "        \n",
        "    return flipped\n",
        "x=123456\n"
      ]
    },
    {
      "cell_type": "code",
      "execution_count": null,
      "metadata": {
        "id": "-u274SuQbXuX",
        "outputId": "19a84a2f-e81d-47d7-9fe2-a88d5d94d722"
      },
      "outputs": [
        {
          "data": {
            "text/plain": [
              "True"
            ]
          },
          "execution_count": 224,
          "metadata": {},
          "output_type": "execute_result"
        }
      ],
      "source": [
        "def IsPal(x):\n",
        "    result = False\n",
        "    if np.linalg.norm( NumToArrayFlip(x)-FlipArray(NumToArrayFlip(x)) ) <0.5:\n",
        "        result =True\n",
        "    return result\n",
        "IsPal(1234321)\n"
      ]
    },
    {
      "cell_type": "code",
      "execution_count": null,
      "metadata": {
        "id": "jyCTBe8bbXuY",
        "outputId": "e17fbdd6-b9f0-4768-b2f1-1f6782edbba1"
      },
      "outputs": [
        {
          "name": "stdout",
          "output_type": "stream",
          "text": [
            "[913, 993]\n",
            "906609\n"
          ]
        }
      ],
      "source": [
        "\n",
        "#First, we need to generate a list of products of three digit numbers, from the top down\n",
        "PalFound=False\n",
        "i_r=10\n",
        "j_r=10\n",
        "product=0\n",
        "k=0\n",
        "a=999\n",
        "b=999\n",
        "pal=0\n",
        "for i in range(50,100):\n",
        "    for j in range(k,k+30):\n",
        "        product= (a-i)*(b-j)\n",
        "        if IsPal(product)==True:\n",
        "            pal=product\n",
        "            print([a-i,b-j])\n",
        "            break\n",
        "print(pal)"
      ]
    },
    {
      "cell_type": "markdown",
      "metadata": {
        "id": "_ujCbTl0bXuf"
      },
      "source": [
        "# Problem 6"
      ]
    },
    {
      "cell_type": "code",
      "execution_count": null,
      "metadata": {
        "id": "m2jAe11XbXug",
        "outputId": "812a7a8f-0b09-482f-8f6e-4617a028e2b7"
      },
      "outputs": [
        {
          "data": {
            "text/plain": [
              "25164150"
            ]
          },
          "execution_count": 226,
          "metadata": {},
          "output_type": "execute_result"
        }
      ],
      "source": [
        "def squareddif(n):\n",
        "    i=0\n",
        "    total1=0\n",
        "    while i<=n:\n",
        "        total1+=i**2\n",
        "        i+=1\n",
        "    k=0\n",
        "    total2=0\n",
        "    while k<=n:\n",
        "        total2+=k\n",
        "        k+=1\n",
        "    result = total2**2-total1\n",
        "    return result\n",
        "squareddif(100)"
      ]
    },
    {
      "cell_type": "markdown",
      "metadata": {
        "id": "McEQl9XgbXuh"
      },
      "source": [
        "# Problem 7"
      ]
    },
    {
      "cell_type": "markdown",
      "metadata": {
        "id": "1BB0cYBpbXuh"
      },
      "source": [
        "By listing the first six prime numbers: 2, 3, 5, 7, 11, and 13, we can see that the 6th prime is 13.\n",
        "\n",
        "What is the 10 001st prime number?"
      ]
    },
    {
      "cell_type": "code",
      "execution_count": null,
      "metadata": {
        "id": "FwyFBIRwbXui",
        "outputId": "45338e4f-cfb7-4444-cc3f-02a937993507"
      },
      "outputs": [
        {
          "name": "stderr",
          "output_type": "stream",
          "text": [
            "<ipython-input-6-70ee3c72eb34>:6: RuntimeWarning: overflow encountered in long_scalars\n",
            "  if p*p <= n:\n"
          ]
        },
        {
          "ename": "KeyboardInterrupt",
          "evalue": "",
          "output_type": "error",
          "traceback": [
            "\u001b[1;31m---------------------------------------------------------------------------\u001b[0m",
            "\u001b[1;31mKeyboardInterrupt\u001b[0m                         Traceback (most recent call last)",
            "\u001b[1;32m<ipython-input-6-70ee3c72eb34>\u001b[0m in \u001b[0;36m<module>\u001b[1;34m\u001b[0m\n\u001b[0;32m      4\u001b[0m     \u001b[0mk\u001b[0m\u001b[1;33m=\u001b[0m\u001b[1;36m0\u001b[0m\u001b[1;33m\u001b[0m\u001b[1;33m\u001b[0m\u001b[0m\n\u001b[0;32m      5\u001b[0m     \u001b[1;32mfor\u001b[0m \u001b[0mp\u001b[0m \u001b[1;32min\u001b[0m \u001b[0mprimes\u001b[0m\u001b[1;33m:\u001b[0m \u001b[1;31m# check if e\u001b[0m\u001b[1;33m\u001b[0m\u001b[1;33m\u001b[0m\u001b[0m\n\u001b[1;32m----> 6\u001b[1;33m         \u001b[1;32mif\u001b[0m \u001b[0mp\u001b[0m\u001b[1;33m*\u001b[0m\u001b[0mp\u001b[0m \u001b[1;33m<=\u001b[0m \u001b[0mn\u001b[0m\u001b[1;33m:\u001b[0m\u001b[1;33m\u001b[0m\u001b[1;33m\u001b[0m\u001b[0m\n\u001b[0m\u001b[0;32m      7\u001b[0m             \u001b[1;32mif\u001b[0m \u001b[0mn\u001b[0m\u001b[1;33m%\u001b[0m\u001b[0mp\u001b[0m \u001b[1;33m==\u001b[0m \u001b[1;36m0\u001b[0m\u001b[1;33m:\u001b[0m\u001b[1;33m\u001b[0m\u001b[1;33m\u001b[0m\u001b[0m\n\u001b[0;32m      8\u001b[0m                 \u001b[0mk\u001b[0m\u001b[1;33m+=\u001b[0m\u001b[1;36m1\u001b[0m\u001b[1;33m\u001b[0m\u001b[1;33m\u001b[0m\u001b[0m\n",
            "\u001b[1;31mKeyboardInterrupt\u001b[0m: "
          ]
        }
      ],
      "source": [
        "primes = np.array([2,3,5,7,11])# Initiate some primes\n",
        "n=13\n",
        "while len(primes)< 10001:#we want this many primes\n",
        "    k=0\n",
        "    for p in primes: # check if e\n",
        "        if p*p <= n:\n",
        "            if n%p == 0:\n",
        "                k+=1\n",
        "                break\n",
        "    if k ==0: \n",
        "        primes=np.append(primes,n)\n",
        "        \n",
        "    n+=2\n",
        "print(primes)\n",
        "print(len(primes))\n",
        "#print(primes[10000])"
      ]
    },
    {
      "cell_type": "code",
      "execution_count": null,
      "metadata": {
        "id": "G9oFPUsPbXuj",
        "outputId": "cb1d66b1-350a-4c2f-db6a-602e2aabd293"
      },
      "outputs": [
        {
          "data": {
            "text/plain": [
              "array([    2,     3,     5, ..., 83009, 83023, 83047])"
            ]
          },
          "execution_count": 7,
          "metadata": {},
          "output_type": "execute_result"
        }
      ],
      "source": [
        "primes"
      ]
    },
    {
      "cell_type": "code",
      "execution_count": null,
      "metadata": {
        "id": "La7eh4xkbXuj",
        "outputId": "ada4cf2c-a7c4-4365-ed24-e7fe7659557d"
      },
      "outputs": [
        {
          "data": {
            "text/plain": [
              "array([  0.,   1.,   2.,   3.,   4.,   5.,   6.,   7.,   8.,   9.,  10.,\n",
              "        11.,  12.,  13.,  14.,  15.,  16.,  17.,  18.,  19.,  20.,  21.,\n",
              "        22.,  23.,  24.,  25.,  26.,  27.,  28.,  29.,  30.,  31.,  32.,\n",
              "        33.,  34.,  35.,  36.,  37.,  38.,  39.,  40.,  41.,  42.,  43.,\n",
              "        44.,  45.,  46.,  47.,  48.,  49.,  50.,  51.,  52.,  53.,  54.,\n",
              "        55.,  56.,  57.,  58.,  59.,  60.,  61.,  62.,  63.,  64.,  65.,\n",
              "        66.,  67.,  68.,  69.,  70.,  71.,  72.,  73.,  74.,  75.,  76.,\n",
              "        77.,  78.,  79.,  80.,  81.,  82.,  83.,  84.,  85.,  86.,  87.,\n",
              "        88.,  89.,  90.,  91.,  92.,  93.,  94.,  95.,  96.,  97.,  98.,\n",
              "        99., 100.])"
            ]
          },
          "execution_count": 318,
          "metadata": {},
          "output_type": "execute_result"
        }
      ],
      "source": [
        "def GenPrimesA(n):#Ancient Sieve of Eratosthenes\n",
        "    array = []\n",
        "    primes=[2]\n",
        "    \n",
        "    for i in range(0,n+1): # create an array of numbers up to n\n",
        "        array=np.append(array, i)\n",
        "    return array \n",
        "GenPrimesA(100)"
      ]
    },
    {
      "cell_type": "code",
      "execution_count": null,
      "metadata": {
        "id": "oG0vSxkUbXuk"
      },
      "outputs": [],
      "source": []
    },
    {
      "cell_type": "code",
      "execution_count": null,
      "metadata": {
        "id": "skqYm0TObXuk"
      },
      "outputs": [],
      "source": [
        "len(primes)\n",
        "juice=primes[0:10000]\n",
        "primes[100]"
      ]
    },
    {
      "cell_type": "markdown",
      "metadata": {
        "id": "abReGCPtbXul"
      },
      "source": [
        "# Problem 8"
      ]
    },
    {
      "cell_type": "code",
      "execution_count": null,
      "metadata": {
        "id": "Hgc9pQzjbXul",
        "outputId": "bff54495-b51c-487b-fa58-710e32179271"
      },
      "outputs": [
        {
          "data": {
            "text/plain": [
              "23514624000.0"
            ]
          },
          "execution_count": 248,
          "metadata": {},
          "output_type": "execute_result"
        }
      ],
      "source": [
        "def NumToArray(x):\n",
        "    res = [ int(dig) for dig in str(x)]\n",
        "    return res\n",
        "NumToArray(2019)\n",
        "NumToArray(45)\n",
        "\n",
        "n = '73167176531330624919225119674426574742355349194934'\\\n",
        "'96983520312774506326239578318016984801869478851843'\\\n",
        "'85861560789112949495459501737958331952853208805511'\\\n",
        "'12540698747158523863050715693290963295227443043557'\\\n",
        "'66896648950445244523161731856403098711121722383113'\\\n",
        "'62229893423380308135336276614282806444486645238749'\\\n",
        "'30358907296290491560440772390713810515859307960866'\\\n",
        "'70172427121883998797908792274921901699720888093776'\\\n",
        "'65727333001053367881220235421809751254540594752243'\\\n",
        "'52584907711670556013604839586446706324415722155397'\\\n",
        "'53697817977846174064955149290862569321978468622482'\\\n",
        "'83972241375657056057490261407972968652414535100474'\\\n",
        "'82166370484403199890008895243450658541227588666881'\\\n",
        "'16427171479924442928230863465674813919123162824586'\\\n",
        "'17866458359124566529476545682848912883142607690042'\\\n",
        "'24219022671055626321111109370544217506941658960408'\\\n",
        "'07198403850962455444362981230987879927244284909188'\\\n",
        "'84580156166097919133875499200524063689912560717606'\\\n",
        "'05886116467109405077541002256983155200055935729725'\\\n",
        "'71636269561882670428252483600823257530420752963450'\n",
        "a=[int(dig) for dig in n]\n",
        "a\n",
        "prods=[]\n",
        "for i in range(0,1000-13):\n",
        "    prod=1\n",
        "    for j in range(0,13):\n",
        "        prod= prod*a[i+j]\n",
        "    prods=np.append(prods,prod)\n",
        "np.max(prods)"
      ]
    },
    {
      "cell_type": "markdown",
      "metadata": {
        "id": "yVX8H2OLbXum"
      },
      "source": [
        "# Problem 9"
      ]
    },
    {
      "cell_type": "code",
      "execution_count": null,
      "metadata": {
        "id": "8XTLQrLzbXum",
        "outputId": "bbb01a71-dbd0-4111-d39e-6884dd8d2792"
      },
      "outputs": [
        {
          "name": "stdout",
          "output_type": "stream",
          "text": [
            "31875000.0\n"
          ]
        }
      ],
      "source": [
        "for a in range (1,1000):\n",
        "    b= (-1000000+2000*a)/(2*a -2000)\n",
        "    c=1000-a-b\n",
        "    if np.abs(b-np.floor(b))<0.001 and b>0 and c>0:\n",
        "        print(a*b*c)\n",
        "        break"
      ]
    },
    {
      "cell_type": "markdown",
      "metadata": {
        "id": "KGTOP8PxbXun"
      },
      "source": [
        "# Problem 10"
      ]
    },
    {
      "cell_type": "markdown",
      "metadata": {
        "id": "5A1_oj2ubXun"
      },
      "source": [
        "The sum of the primes below 10 is 2 + 3 + 5 + 7 = 17.\n",
        "\n",
        "Find the sum of all the primes below two million."
      ]
    },
    {
      "cell_type": "code",
      "execution_count": null,
      "metadata": {
        "id": "LZjaTsuHbXun",
        "outputId": "28ab429b-728c-4387-fad9-607026267088"
      },
      "outputs": [
        {
          "data": {
            "text/plain": [
              "6829"
            ]
          },
          "execution_count": 267,
          "metadata": {},
          "output_type": "execute_result"
        }
      ],
      "source": [
        "max(primes)"
      ]
    },
    {
      "cell_type": "markdown",
      "metadata": {
        "id": "8h7FB6xnbXuo"
      },
      "source": [
        "# Problem 12 "
      ]
    },
    {
      "cell_type": "markdown",
      "metadata": {
        "id": "ZX87B3ypbXuo"
      },
      "source": [
        "The sequence of triangle numbers is generated by adding the natural numbers. So the 7th triangle number would be 1 + 2 + 3 + 4 + 5 + 6 + 7 = 28. The first ten terms would be:\n",
        "\n",
        "1, 3, 6, 10, 15, 21, 28, 36, 45, 55, ...\n",
        "\n",
        "Let us list the factors of the first seven triangle numbers:\n",
        "\n",
        " 1: 1\n",
        " 3: 1,3\n",
        " 6: 1,2,3,6\n",
        "10: 1,2,5,10\n",
        "15: 1,3,5,15\n",
        "21: 1,3,7,21\n",
        "28: 1,2,4,7,14,28\n",
        "We can see that 28 is the first triangle number to have over five divisors.\n",
        "\n",
        "What is the value of the first triangle number to have over five hundred divisors?"
      ]
    },
    {
      "cell_type": "code",
      "execution_count": null,
      "metadata": {
        "id": "rKcArbiPbXup",
        "outputId": "619bd5d6-5bae-4e40-db96-e8bb493ed970"
      },
      "outputs": [
        {
          "data": {
            "text/plain": [
              "12"
            ]
          },
          "execution_count": 283,
          "metadata": {},
          "output_type": "execute_result"
        }
      ],
      "source": [
        "def DivCount(x): \n",
        "    ndiv = 2\n",
        "    for n in range(2,int(np.ceil(x/2))+1):\n",
        "        if x%n == 0:\n",
        "            ndiv+=1\n",
        "    return ndiv \n",
        "DivCount(126)"
      ]
    },
    {
      "cell_type": "code",
      "execution_count": null,
      "metadata": {
        "id": "7N26JPX7bXup",
        "outputId": "7cb6a980-24e6-4f0a-fe4f-1b6954a62d9c"
      },
      "outputs": [
        {
          "name": "stdout",
          "output_type": "stream",
          "text": [
            "749700\n"
          ]
        }
      ],
      "source": [
        "tri = 1 # the first triangle number\n",
        "n=2\n",
        "div500 = False # we have yet to find a triangle numb with 500 divisors\n",
        "while div500 == False: \n",
        "    tri +=n\n",
        "    if DivCount(tri) > 150:\n",
        "        print(tri)\n",
        "        div500 = True\n",
        "    else: n+=1"
      ]
    },
    {
      "cell_type": "markdown",
      "metadata": {
        "id": "OX7sI3_IbXuq"
      },
      "source": [
        "# Problem 14"
      ]
    },
    {
      "cell_type": "code",
      "execution_count": null,
      "metadata": {
        "id": "O6PP5tmrbXuq",
        "outputId": "dbf43dd8-097f-4cbc-e23e-9a11f66d7f68"
      },
      "outputs": [
        {
          "name": "stdout",
          "output_type": "stream",
          "text": [
            "837799\n",
            "525\n"
          ]
        }
      ],
      "source": [
        "memo={}\n",
        "k=0\n",
        "crown=0\n",
        "def collatz(n):\n",
        "    if not n in memo:\n",
        "        if n==1:\n",
        "            memo[n]= 1\n",
        "        elif n%2==0:\n",
        "            memo[n]=collatz(n/2)+1\n",
        "        else:\n",
        "            memo[n]= collatz(3*n+1)+1\n",
        "    return memo[n]\n",
        "\n",
        "for i in range(1,1000001):\n",
        "    collatz(i)\n",
        "    if memo[i]>k:\n",
        "        k=memo[i]\n",
        "        crown=i\n",
        "\n",
        "print(crown)\n",
        "print (k) "
      ]
    },
    {
      "cell_type": "markdown",
      "metadata": {
        "id": "XAClLaTpbXur"
      },
      "source": [
        "# Problem 31"
      ]
    },
    {
      "cell_type": "markdown",
      "metadata": {
        "id": "LQXSdDdybXur"
      },
      "source": [
        "In the United Kingdom the currency is made up of pound (£) and pence (p). There are eight coins in general circulation:\n",
        "\n",
        "1p, 2p, 5p, 10p, 20p, 50p, £1 (100p), and £2 (200p).\n",
        "It is possible to make £2 in the following way:\n",
        "\n",
        "1×£1 + 1×50p + 2×20p + 1×5p + 1×2p + 3×1p\n",
        "How many different ways can £2 be made using any number of coins?"
      ]
    },
    {
      "cell_type": "code",
      "execution_count": null,
      "metadata": {
        "id": "YiPn67-SbXus"
      },
      "outputs": [],
      "source": [
        "tot=0\n",
        "sum=0\n",
        "for x_1 in range(0,201):\n",
        "    sum = 0\n",
        "    sum = 1*x_1\n",
        "    if sum >200:\n",
        "        sum += -1*x_1\n",
        "        \n",
        "    for x_2 in range(0,101):\n",
        "        sum += 2*x_2\n",
        "        if sum >200:\n",
        "            sum+=-2*x_2\n",
        "            \n",
        "        for x_5 in range(0,41):\n",
        "            sum += 5*x_5\n",
        "            if sum >200:\n",
        "                sum+=-5*x_5\n",
        "                \n",
        "            for x_10 in range(0,21):\n",
        "                sum += 10*x_10\n",
        "                if sum >200:\n",
        "                    sum+=-10*x_10\n",
        "                    \n",
        "                for x_20 in range(0,11):\n",
        "                    sum += 20*x_20\n",
        "                    if sum >200:\n",
        "                        sum+= -20*x_20\n",
        "                        \n",
        "                    for x_50 in range(0,4):\n",
        "                        sum += 50*x_50\n",
        "                        if sum >200:\n",
        "                            sum+= -50*x_50\n",
        "                                             \n",
        "                        for x_100 in range(0,3):\n",
        "                            print(x_1,x_2,x_5,x_10,x_20,x_50,x_100)\n",
        "                            sum += 100*x_100\n",
        "                            print(sum)\n",
        "                            if sum >200:\n",
        "                                sum+= -100*x_100\n",
        "                                                          \n",
        "                            if sum == 200:\n",
        "                                tot+=1\n",
        "                            \n",
        "print(tot)"
      ]
    },
    {
      "cell_type": "code",
      "execution_count": null,
      "metadata": {
        "id": "PC4IPzvsbXus"
      },
      "outputs": [],
      "source": [
        "for i in range(0,3):\n",
        "    for j in range(0,3):\n",
        "        for k in range(0,3):"
      ]
    },
    {
      "cell_type": "code",
      "execution_count": null,
      "metadata": {
        "id": "q0yYfUdFbXut"
      },
      "outputs": [],
      "source": [
        "sum = 0\n",
        "for x_1 in range(0,3):"
      ]
    },
    {
      "cell_type": "code",
      "execution_count": null,
      "metadata": {
        "id": "oH8h7tN8bXut"
      },
      "outputs": [],
      "source": []
    },
    {
      "cell_type": "markdown",
      "source": [
        "# Problem 19 $\\checkmark $"
      ],
      "metadata": {
        "id": "_E5RCH4AIbNP"
      }
    },
    {
      "cell_type": "code",
      "source": [
        "date = np.array([0,0,1901,1]) \n",
        "#[date,month,year,day of week] mod x, mod 12, year, mod 7 repectively\n",
        "thirty = [8,3,5,10]\n",
        "total = 0\n",
        "\n",
        "while date[2]<2001:\n",
        "  if date[0]==0 and date[3]==6:\n",
        "    total+=1\n",
        "  #increment the day\n",
        "  date[3] = (date[3]+1)%7\n",
        "\n",
        "  #increment date based on what month it is\n",
        "  #if in special month \n",
        "  if bool(date[1] in thirty):\n",
        "    date[0]= (date[0]+1)%30\n",
        "  #if in february\n",
        "  elif date[1] == 1:\n",
        "      #check for potential leap year\n",
        "      if date[2]%4==0:\n",
        "        if date[2]%100==0 and date[2]%400!=0:\n",
        "          date[0] = (date[0]+1)%28\n",
        "        elif date[2]%100==0 and date[2]%400==0:\n",
        "         date[0] = (date[0]+1)%29\n",
        "        else:\n",
        "          date[0] = (date[0]+1)%29\n",
        "      else:  \n",
        "        date[0] = (date[0]+1)%28\n",
        "  else:\n",
        "    date[0] = (date[0]+1)%31\n",
        "\n",
        "  if date[0]==0:\n",
        "    date[1]= (date[1]+1)%12\n",
        "\n",
        "  if date[1]==0 and date[0]==0:\n",
        "    date[2]+=1 "
      ],
      "metadata": {
        "id": "jKA7UGiDJfAy"
      },
      "execution_count": null,
      "outputs": []
    },
    {
      "cell_type": "code",
      "source": [
        "total"
      ],
      "metadata": {
        "colab": {
          "base_uri": "https://localhost:8080/"
        },
        "id": "fFGbhyknYA1g",
        "outputId": "1fc3350b-bbed-48b8-d0b1-3e3ea13fdba9"
      },
      "execution_count": null,
      "outputs": [
        {
          "output_type": "execute_result",
          "data": {
            "text/plain": [
              "171"
            ]
          },
          "metadata": {},
          "execution_count": 9
        }
      ]
    },
    {
      "cell_type": "code",
      "source": [],
      "metadata": {
        "id": "IcrJaobCYE5M"
      },
      "execution_count": null,
      "outputs": []
    },
    {
      "cell_type": "code",
      "source": [],
      "metadata": {
        "id": "xdnBfzHjUj9m"
      },
      "execution_count": null,
      "outputs": []
    }
  ],
  "metadata": {
    "kernelspec": {
      "display_name": "Python 3",
      "language": "python",
      "name": "python3"
    },
    "language_info": {
      "codemirror_mode": {
        "name": "ipython",
        "version": 3
      },
      "file_extension": ".py",
      "mimetype": "text/x-python",
      "name": "python",
      "nbconvert_exporter": "python",
      "pygments_lexer": "ipython3",
      "version": "3.8.3"
    },
    "colab": {
      "provenance": [],
      "include_colab_link": true
    }
  },
  "nbformat": 4,
  "nbformat_minor": 0
}